{
 "cells": [
  {
   "cell_type": "code",
   "execution_count": 1,
   "id": "76970e28",
   "metadata": {
    "_cell_guid": "b1076dfc-b9ad-4769-8c92-a6c4dae69d19",
    "_uuid": "8f2839f25d086af736a60e9eeb907d3b93b6e0e5",
    "execution": {
     "iopub.execute_input": "2025-08-20T14:35:10.272254Z",
     "iopub.status.busy": "2025-08-20T14:35:10.271960Z",
     "iopub.status.idle": "2025-08-20T14:35:12.014127Z",
     "shell.execute_reply": "2025-08-20T14:35:12.013118Z"
    },
    "papermill": {
     "duration": 1.750567,
     "end_time": "2025-08-20T14:35:12.015563",
     "exception": false,
     "start_time": "2025-08-20T14:35:10.264996",
     "status": "completed"
    },
    "tags": []
   },
   "outputs": [
    {
     "name": "stdout",
     "output_type": "stream",
     "text": [
      "/kaggle/input/pubg-finish-placement-prediction/train_V2.csv\n",
      "/kaggle/input/pubg-finish-placement-prediction/test_V2.csv\n",
      "/kaggle/input/pubg-finish-placement-prediction/sample_submission_V2.csv\n"
     ]
    }
   ],
   "source": [
    "# This Python 3 environment comes with many helpful analytics libraries installed\n",
    "# It is defined by the kaggle/python Docker image: https://github.com/kaggle/docker-python\n",
    "# For example, here's several helpful packages to load\n",
    "\n",
    "import numpy as np # linear algebra\n",
    "import pandas as pd # data processing, CSV file I/O (e.g. pd.read_csv)\n",
    "\n",
    "# Input data files are available in the read-only \"../input/\" directory\n",
    "# For example, running this (by clicking run or pressing Shift+Enter) will list all files under the input directory\n",
    "\n",
    "import os\n",
    "for dirname, _, filenames in os.walk('/kaggle/input'):\n",
    "    for filename in filenames:\n",
    "        print(os.path.join(dirname, filename))\n",
    "\n",
    "# You can write up to 20GB to the current directory (/kaggle/working/) that gets preserved as output when you create a version using \"Save & Run All\" \n",
    "# You can also write temporary files to /kaggle/temp/, but they won't be saved outside of the current session"
   ]
  },
  {
   "cell_type": "code",
   "execution_count": 2,
   "id": "1d9c9446",
   "metadata": {
    "execution": {
     "iopub.execute_input": "2025-08-20T14:35:12.027470Z",
     "iopub.status.busy": "2025-08-20T14:35:12.026753Z",
     "iopub.status.idle": "2025-08-20T14:35:13.607702Z",
     "shell.execute_reply": "2025-08-20T14:35:13.606860Z"
    },
    "papermill": {
     "duration": 1.588168,
     "end_time": "2025-08-20T14:35:13.609336",
     "exception": false,
     "start_time": "2025-08-20T14:35:12.021168",
     "status": "completed"
    },
    "tags": []
   },
   "outputs": [],
   "source": [
    "# library 임포트\n",
    "import pandas as pd\n",
    "import numpy as np\n",
    "import matplotlib.pyplot as plt\n",
    "import seaborn as sns"
   ]
  },
  {
   "cell_type": "markdown",
   "id": "55cfb39f",
   "metadata": {
    "papermill": {
     "duration": 0.004451,
     "end_time": "2025-08-20T14:35:13.618639",
     "exception": false,
     "start_time": "2025-08-20T14:35:13.614188",
     "status": "completed"
    },
    "tags": []
   },
   "source": [
    "# **SETTING**"
   ]
  },
  {
   "cell_type": "code",
   "execution_count": 3,
   "id": "65d7fe3a",
   "metadata": {
    "execution": {
     "iopub.execute_input": "2025-08-20T14:35:13.630424Z",
     "iopub.status.busy": "2025-08-20T14:35:13.629478Z",
     "iopub.status.idle": "2025-08-20T14:35:18.983730Z",
     "shell.execute_reply": "2025-08-20T14:35:18.982927Z"
    },
    "papermill": {
     "duration": 5.362094,
     "end_time": "2025-08-20T14:35:18.985120",
     "exception": false,
     "start_time": "2025-08-20T14:35:13.623026",
     "status": "completed"
    },
    "tags": []
   },
   "outputs": [
    {
     "data": {
      "text/plain": [
       "('/kaggle/input/pubg-finish-placement-prediction/train_V2.csv',\n",
       " '/kaggle/input/pubg-finish-placement-prediction/test_V2.csv')"
      ]
     },
     "execution_count": 3,
     "metadata": {},
     "output_type": "execute_result"
    }
   ],
   "source": [
    "\n",
    "import numpy as np\n",
    "import pandas as pd\n",
    "\n",
    "import matplotlib.pyplot as plt\n",
    "import seaborn as sns\n",
    "\n",
    "import random, gc, os\n",
    "from sklearn.model_selection import train_test_split\n",
    "from sklearn.metrics import mean_squared_error\n",
    "import lightgbm as lgb\n",
    "\n",
    "pd.set_option('display.max_columns', 200)\n",
    "pd.set_option('display.float_format', lambda x: f'{x:,.4f}')\n",
    "sns.set(style='whitegrid', font_scale=1.0)\n",
    "\n",
    "SEED = 42\n",
    "random.seed(SEED); np.random.seed(SEED)\n",
    "\n",
    "DATA_DIR = '/kaggle/input/pubg-finish-placement-prediction'\n",
    "WORK_DIR = '/kaggle/working'\n",
    "train_path = os.path.join(DATA_DIR, 'train_V2.csv')\n",
    "test_path  = os.path.join(DATA_DIR, 'test_V2.csv')\n",
    "\n",
    "train_path, test_path"
   ]
  },
  {
   "cell_type": "markdown",
   "id": "535b97d7",
   "metadata": {
    "papermill": {
     "duration": 0.004523,
     "end_time": "2025-08-20T14:35:18.994542",
     "exception": false,
     "start_time": "2025-08-20T14:35:18.990019",
     "status": "completed"
    },
    "tags": []
   },
   "source": [
    "# **Load Data**"
   ]
  },
  {
   "cell_type": "code",
   "execution_count": 4,
   "id": "5b8115ee",
   "metadata": {
    "execution": {
     "iopub.execute_input": "2025-08-20T14:35:19.005139Z",
     "iopub.status.busy": "2025-08-20T14:35:19.004565Z",
     "iopub.status.idle": "2025-08-20T14:35:55.888828Z",
     "shell.execute_reply": "2025-08-20T14:35:55.887959Z"
    },
    "papermill": {
     "duration": 36.896458,
     "end_time": "2025-08-20T14:35:55.895503",
     "exception": false,
     "start_time": "2025-08-20T14:35:18.999045",
     "status": "completed"
    },
    "tags": []
   },
   "outputs": [
    {
     "data": {
      "text/plain": [
       "((4446966, 29), (1934174, 28))"
      ]
     },
     "execution_count": 4,
     "metadata": {},
     "output_type": "execute_result"
    }
   ],
   "source": [
    "train = pd.read_csv(train_path)\n",
    "test  = pd.read_csv(test_path)\n",
    "train.shape, test.shape"
   ]
  },
  {
   "cell_type": "code",
   "execution_count": 5,
   "id": "077d320e",
   "metadata": {
    "execution": {
     "iopub.execute_input": "2025-08-20T14:35:55.907550Z",
     "iopub.status.busy": "2025-08-20T14:35:55.906894Z",
     "iopub.status.idle": "2025-08-20T14:35:55.935772Z",
     "shell.execute_reply": "2025-08-20T14:35:55.934904Z"
    },
    "papermill": {
     "duration": 0.036109,
     "end_time": "2025-08-20T14:35:55.937267",
     "exception": false,
     "start_time": "2025-08-20T14:35:55.901158",
     "status": "completed"
    },
    "tags": []
   },
   "outputs": [
    {
     "data": {
      "text/html": [
       "<div>\n",
       "<style scoped>\n",
       "    .dataframe tbody tr th:only-of-type {\n",
       "        vertical-align: middle;\n",
       "    }\n",
       "\n",
       "    .dataframe tbody tr th {\n",
       "        vertical-align: top;\n",
       "    }\n",
       "\n",
       "    .dataframe thead th {\n",
       "        text-align: right;\n",
       "    }\n",
       "</style>\n",
       "<table border=\"1\" class=\"dataframe\">\n",
       "  <thead>\n",
       "    <tr style=\"text-align: right;\">\n",
       "      <th></th>\n",
       "      <th>Id</th>\n",
       "      <th>groupId</th>\n",
       "      <th>matchId</th>\n",
       "      <th>assists</th>\n",
       "      <th>boosts</th>\n",
       "      <th>damageDealt</th>\n",
       "      <th>DBNOs</th>\n",
       "      <th>headshotKills</th>\n",
       "      <th>heals</th>\n",
       "      <th>killPlace</th>\n",
       "      <th>killPoints</th>\n",
       "      <th>kills</th>\n",
       "      <th>killStreaks</th>\n",
       "      <th>longestKill</th>\n",
       "      <th>matchDuration</th>\n",
       "      <th>matchType</th>\n",
       "      <th>maxPlace</th>\n",
       "      <th>numGroups</th>\n",
       "      <th>rankPoints</th>\n",
       "      <th>revives</th>\n",
       "      <th>rideDistance</th>\n",
       "      <th>roadKills</th>\n",
       "      <th>swimDistance</th>\n",
       "      <th>teamKills</th>\n",
       "      <th>vehicleDestroys</th>\n",
       "      <th>walkDistance</th>\n",
       "      <th>weaponsAcquired</th>\n",
       "      <th>winPoints</th>\n",
       "      <th>winPlacePerc</th>\n",
       "    </tr>\n",
       "  </thead>\n",
       "  <tbody>\n",
       "    <tr>\n",
       "      <th>0</th>\n",
       "      <td>7f96b2f878858a</td>\n",
       "      <td>4d4b580de459be</td>\n",
       "      <td>a10357fd1a4a91</td>\n",
       "      <td>0</td>\n",
       "      <td>0</td>\n",
       "      <td>0.0000</td>\n",
       "      <td>0</td>\n",
       "      <td>0</td>\n",
       "      <td>0</td>\n",
       "      <td>60</td>\n",
       "      <td>1241</td>\n",
       "      <td>0</td>\n",
       "      <td>0</td>\n",
       "      <td>0.0000</td>\n",
       "      <td>1306</td>\n",
       "      <td>squad-fpp</td>\n",
       "      <td>28</td>\n",
       "      <td>26</td>\n",
       "      <td>-1</td>\n",
       "      <td>0</td>\n",
       "      <td>0.0000</td>\n",
       "      <td>0</td>\n",
       "      <td>0.0000</td>\n",
       "      <td>0</td>\n",
       "      <td>0</td>\n",
       "      <td>244.8000</td>\n",
       "      <td>1</td>\n",
       "      <td>1466</td>\n",
       "      <td>0.4444</td>\n",
       "    </tr>\n",
       "    <tr>\n",
       "      <th>1</th>\n",
       "      <td>eef90569b9d03c</td>\n",
       "      <td>684d5656442f9e</td>\n",
       "      <td>aeb375fc57110c</td>\n",
       "      <td>0</td>\n",
       "      <td>0</td>\n",
       "      <td>91.4700</td>\n",
       "      <td>0</td>\n",
       "      <td>0</td>\n",
       "      <td>0</td>\n",
       "      <td>57</td>\n",
       "      <td>0</td>\n",
       "      <td>0</td>\n",
       "      <td>0</td>\n",
       "      <td>0.0000</td>\n",
       "      <td>1777</td>\n",
       "      <td>squad-fpp</td>\n",
       "      <td>26</td>\n",
       "      <td>25</td>\n",
       "      <td>1484</td>\n",
       "      <td>0</td>\n",
       "      <td>0.0045</td>\n",
       "      <td>0</td>\n",
       "      <td>11.0400</td>\n",
       "      <td>0</td>\n",
       "      <td>0</td>\n",
       "      <td>1,434.0000</td>\n",
       "      <td>5</td>\n",
       "      <td>0</td>\n",
       "      <td>0.6400</td>\n",
       "    </tr>\n",
       "    <tr>\n",
       "      <th>2</th>\n",
       "      <td>1eaf90ac73de72</td>\n",
       "      <td>6a4a42c3245a74</td>\n",
       "      <td>110163d8bb94ae</td>\n",
       "      <td>1</td>\n",
       "      <td>0</td>\n",
       "      <td>68.0000</td>\n",
       "      <td>0</td>\n",
       "      <td>0</td>\n",
       "      <td>0</td>\n",
       "      <td>47</td>\n",
       "      <td>0</td>\n",
       "      <td>0</td>\n",
       "      <td>0</td>\n",
       "      <td>0.0000</td>\n",
       "      <td>1318</td>\n",
       "      <td>duo</td>\n",
       "      <td>50</td>\n",
       "      <td>47</td>\n",
       "      <td>1491</td>\n",
       "      <td>0</td>\n",
       "      <td>0.0000</td>\n",
       "      <td>0</td>\n",
       "      <td>0.0000</td>\n",
       "      <td>0</td>\n",
       "      <td>0</td>\n",
       "      <td>161.8000</td>\n",
       "      <td>2</td>\n",
       "      <td>0</td>\n",
       "      <td>0.7755</td>\n",
       "    </tr>\n",
       "    <tr>\n",
       "      <th>3</th>\n",
       "      <td>4616d365dd2853</td>\n",
       "      <td>a930a9c79cd721</td>\n",
       "      <td>f1f1f4ef412d7e</td>\n",
       "      <td>0</td>\n",
       "      <td>0</td>\n",
       "      <td>32.9000</td>\n",
       "      <td>0</td>\n",
       "      <td>0</td>\n",
       "      <td>0</td>\n",
       "      <td>75</td>\n",
       "      <td>0</td>\n",
       "      <td>0</td>\n",
       "      <td>0</td>\n",
       "      <td>0.0000</td>\n",
       "      <td>1436</td>\n",
       "      <td>squad-fpp</td>\n",
       "      <td>31</td>\n",
       "      <td>30</td>\n",
       "      <td>1408</td>\n",
       "      <td>0</td>\n",
       "      <td>0.0000</td>\n",
       "      <td>0</td>\n",
       "      <td>0.0000</td>\n",
       "      <td>0</td>\n",
       "      <td>0</td>\n",
       "      <td>202.7000</td>\n",
       "      <td>3</td>\n",
       "      <td>0</td>\n",
       "      <td>0.1667</td>\n",
       "    </tr>\n",
       "    <tr>\n",
       "      <th>4</th>\n",
       "      <td>315c96c26c9aac</td>\n",
       "      <td>de04010b3458dd</td>\n",
       "      <td>6dc8ff871e21e6</td>\n",
       "      <td>0</td>\n",
       "      <td>0</td>\n",
       "      <td>100.0000</td>\n",
       "      <td>0</td>\n",
       "      <td>0</td>\n",
       "      <td>0</td>\n",
       "      <td>45</td>\n",
       "      <td>0</td>\n",
       "      <td>1</td>\n",
       "      <td>1</td>\n",
       "      <td>58.5300</td>\n",
       "      <td>1424</td>\n",
       "      <td>solo-fpp</td>\n",
       "      <td>97</td>\n",
       "      <td>95</td>\n",
       "      <td>1560</td>\n",
       "      <td>0</td>\n",
       "      <td>0.0000</td>\n",
       "      <td>0</td>\n",
       "      <td>0.0000</td>\n",
       "      <td>0</td>\n",
       "      <td>0</td>\n",
       "      <td>49.7500</td>\n",
       "      <td>2</td>\n",
       "      <td>0</td>\n",
       "      <td>0.1875</td>\n",
       "    </tr>\n",
       "  </tbody>\n",
       "</table>\n",
       "</div>"
      ],
      "text/plain": [
       "               Id         groupId         matchId  assists  boosts  \\\n",
       "0  7f96b2f878858a  4d4b580de459be  a10357fd1a4a91        0       0   \n",
       "1  eef90569b9d03c  684d5656442f9e  aeb375fc57110c        0       0   \n",
       "2  1eaf90ac73de72  6a4a42c3245a74  110163d8bb94ae        1       0   \n",
       "3  4616d365dd2853  a930a9c79cd721  f1f1f4ef412d7e        0       0   \n",
       "4  315c96c26c9aac  de04010b3458dd  6dc8ff871e21e6        0       0   \n",
       "\n",
       "   damageDealt  DBNOs  headshotKills  heals  killPlace  killPoints  kills  \\\n",
       "0       0.0000      0              0      0         60        1241      0   \n",
       "1      91.4700      0              0      0         57           0      0   \n",
       "2      68.0000      0              0      0         47           0      0   \n",
       "3      32.9000      0              0      0         75           0      0   \n",
       "4     100.0000      0              0      0         45           0      1   \n",
       "\n",
       "   killStreaks  longestKill  matchDuration  matchType  maxPlace  numGroups  \\\n",
       "0            0       0.0000           1306  squad-fpp        28         26   \n",
       "1            0       0.0000           1777  squad-fpp        26         25   \n",
       "2            0       0.0000           1318        duo        50         47   \n",
       "3            0       0.0000           1436  squad-fpp        31         30   \n",
       "4            1      58.5300           1424   solo-fpp        97         95   \n",
       "\n",
       "   rankPoints  revives  rideDistance  roadKills  swimDistance  teamKills  \\\n",
       "0          -1        0        0.0000          0        0.0000          0   \n",
       "1        1484        0        0.0045          0       11.0400          0   \n",
       "2        1491        0        0.0000          0        0.0000          0   \n",
       "3        1408        0        0.0000          0        0.0000          0   \n",
       "4        1560        0        0.0000          0        0.0000          0   \n",
       "\n",
       "   vehicleDestroys  walkDistance  weaponsAcquired  winPoints  winPlacePerc  \n",
       "0                0      244.8000                1       1466        0.4444  \n",
       "1                0    1,434.0000                5          0        0.6400  \n",
       "2                0      161.8000                2          0        0.7755  \n",
       "3                0      202.7000                3          0        0.1667  \n",
       "4                0       49.7500                2          0        0.1875  "
      ]
     },
     "execution_count": 5,
     "metadata": {},
     "output_type": "execute_result"
    }
   ],
   "source": [
    "train.head()"
   ]
  },
  {
   "cell_type": "markdown",
   "id": "ddf2b2dc",
   "metadata": {
    "papermill": {
     "duration": 0.005062,
     "end_time": "2025-08-20T14:35:55.947727",
     "exception": false,
     "start_time": "2025-08-20T14:35:55.942665",
     "status": "completed"
    },
    "tags": []
   },
   "source": [
    "## **Preprocessing**"
   ]
  },
  {
   "cell_type": "code",
   "execution_count": 6,
   "id": "95d879ff",
   "metadata": {
    "execution": {
     "iopub.execute_input": "2025-08-20T14:35:55.959691Z",
     "iopub.status.busy": "2025-08-20T14:35:55.959071Z",
     "iopub.status.idle": "2025-08-20T14:35:57.038649Z",
     "shell.execute_reply": "2025-08-20T14:35:57.037732Z"
    },
    "papermill": {
     "duration": 1.087361,
     "end_time": "2025-08-20T14:35:57.040337",
     "exception": false,
     "start_time": "2025-08-20T14:35:55.952976",
     "status": "completed"
    },
    "tags": []
   },
   "outputs": [
    {
     "data": {
      "text/plain": [
       "winPlacePerc       1\n",
       "matchType          0\n",
       "winPoints          0\n",
       "weaponsAcquired    0\n",
       "walkDistance       0\n",
       "vehicleDestroys    0\n",
       "teamKills          0\n",
       "swimDistance       0\n",
       "roadKills          0\n",
       "rideDistance       0\n",
       "dtype: int64"
      ]
     },
     "execution_count": 6,
     "metadata": {},
     "output_type": "execute_result"
    }
   ],
   "source": [
    "train.isna().sum().sort_values(ascending=False).head(10)"
   ]
  },
  {
   "cell_type": "code",
   "execution_count": 7,
   "id": "a7058fa4",
   "metadata": {
    "execution": {
     "iopub.execute_input": "2025-08-20T14:35:57.052668Z",
     "iopub.status.busy": "2025-08-20T14:35:57.052054Z",
     "iopub.status.idle": "2025-08-20T14:35:58.360897Z",
     "shell.execute_reply": "2025-08-20T14:35:58.359970Z"
    },
    "papermill": {
     "duration": 1.316349,
     "end_time": "2025-08-20T14:35:58.362298",
     "exception": false,
     "start_time": "2025-08-20T14:35:57.045949",
     "status": "completed"
    },
    "tags": []
   },
   "outputs": [
    {
     "name": "stdout",
     "output_type": "stream",
     "text": [
      "Dropped: 1\n"
     ]
    }
   ],
   "source": [
    "# Drop missing target rows (known single row)\n",
    "before = len(train)\n",
    "train = train[~train['winPlacePerc'].isna()].reset_index(drop=True)\n",
    "after = len(train)\n",
    "print('Dropped:', before - after)"
   ]
  },
  {
   "cell_type": "code",
   "execution_count": 8,
   "id": "483fc5e5",
   "metadata": {
    "execution": {
     "iopub.execute_input": "2025-08-20T14:35:58.374586Z",
     "iopub.status.busy": "2025-08-20T14:35:58.373946Z",
     "iopub.status.idle": "2025-08-20T14:35:59.258837Z",
     "shell.execute_reply": "2025-08-20T14:35:59.257965Z"
    },
    "papermill": {
     "duration": 0.892567,
     "end_time": "2025-08-20T14:35:59.260239",
     "exception": false,
     "start_time": "2025-08-20T14:35:58.367672",
     "status": "completed"
    },
    "tags": []
   },
   "outputs": [
    {
     "data": {
      "text/plain": [
       "0"
      ]
     },
     "execution_count": 8,
     "metadata": {},
     "output_type": "execute_result"
    }
   ],
   "source": [
    "# Numeric NA fill (safety)\n",
    "num_cols_train = train.select_dtypes(include=[np.number]).columns.tolist()\n",
    "for c in num_cols_train:\n",
    "    if train[c].isna().any():\n",
    "        train[c] = train[c].fillna(train[c].median())\n",
    "train[num_cols_train].isna().sum().sum()"
   ]
  },
  {
   "cell_type": "markdown",
   "id": "e88c5e19",
   "metadata": {
    "papermill": {
     "duration": 0.005258,
     "end_time": "2025-08-20T14:35:59.271162",
     "exception": false,
     "start_time": "2025-08-20T14:35:59.265904",
     "status": "completed"
    },
    "tags": []
   },
   "source": [
    "## **Feature Engineering**"
   ]
  },
  {
   "cell_type": "code",
   "execution_count": 9,
   "id": "8c92dcff",
   "metadata": {
    "execution": {
     "iopub.execute_input": "2025-08-20T14:35:59.283292Z",
     "iopub.status.busy": "2025-08-20T14:35:59.283002Z",
     "iopub.status.idle": "2025-08-20T14:35:59.643415Z",
     "shell.execute_reply": "2025-08-20T14:35:59.642496Z"
    },
    "papermill": {
     "duration": 0.368217,
     "end_time": "2025-08-20T14:35:59.644897",
     "exception": false,
     "start_time": "2025-08-20T14:35:59.276680",
     "status": "completed"
    },
    "tags": []
   },
   "outputs": [
    {
     "data": {
      "text/plain": [
       "(count   4,446,965.0000\n",
       " mean        1,764.8432\n",
       " std         2,183.1170\n",
       " min             0.0000\n",
       " 25%           158.1000\n",
       " 50%           788.2000\n",
       " 75%         2,728.4591\n",
       " max        41,270.1000\n",
       " Name: totalDistance, dtype: float64,\n",
       " count   1,934,174.0000\n",
       " mean        1,744.7523\n",
       " std         2,159.2685\n",
       " min             0.0000\n",
       " 25%           157.1000\n",
       " 50%           777.5000\n",
       " 75%         2,702.0000\n",
       " max        40,799.9200\n",
       " Name: totalDistance, dtype: float64)"
      ]
     },
     "execution_count": 9,
     "metadata": {},
     "output_type": "execute_result"
    }
   ],
   "source": [
    "# totalDistance\n",
    "train['totalDistance'] = train['rideDistance'] + train['swimDistance'] + train['walkDistance']\n",
    "test['totalDistance']  = test['rideDistance']  + test['swimDistance']  + test['walkDistance']\n",
    "train['totalDistance'].describe(), test['totalDistance'].describe()"
   ]
  },
  {
   "cell_type": "code",
   "execution_count": 10,
   "id": "49382011",
   "metadata": {
    "execution": {
     "iopub.execute_input": "2025-08-20T14:35:59.657236Z",
     "iopub.status.busy": "2025-08-20T14:35:59.656961Z",
     "iopub.status.idle": "2025-08-20T14:35:59.931641Z",
     "shell.execute_reply": "2025-08-20T14:35:59.930781Z"
    },
    "papermill": {
     "duration": 0.282424,
     "end_time": "2025-08-20T14:35:59.932929",
     "exception": false,
     "start_time": "2025-08-20T14:35:59.650505",
     "status": "completed"
    },
    "tags": []
   },
   "outputs": [
    {
     "data": {
      "text/plain": [
       "count   4,446,965.0000\n",
       "mean            0.1031\n",
       "std             0.2600\n",
       "min             0.0000\n",
       "25%             0.0000\n",
       "50%             0.0000\n",
       "75%             0.0000\n",
       "max             1.0000\n",
       "Name: headshotRate, dtype: float64"
      ]
     },
     "execution_count": 10,
     "metadata": {},
     "output_type": "execute_result"
    }
   ],
   "source": [
    "# headshotRate (avoid div by zero)\n",
    "train['headshotRate'] = (train['headshotKills'] / train['kills'].clip(lower=1)).astype(np.float32)\n",
    "test['headshotRate']  = (test['headshotKills']  / test['kills'].clip(lower=1)).astype(np.float32)\n",
    "train['headshotRate'].describe()"
   ]
  },
  {
   "cell_type": "code",
   "execution_count": 11,
   "id": "f9435f5f",
   "metadata": {
    "execution": {
     "iopub.execute_input": "2025-08-20T14:35:59.945160Z",
     "iopub.status.busy": "2025-08-20T14:35:59.944894Z",
     "iopub.status.idle": "2025-08-20T14:36:09.345198Z",
     "shell.execute_reply": "2025-08-20T14:36:09.344265Z"
    },
    "papermill": {
     "duration": 9.408176,
     "end_time": "2025-08-20T14:36:09.346712",
     "exception": false,
     "start_time": "2025-08-20T14:35:59.938536",
     "status": "completed"
    },
    "tags": []
   },
   "outputs": [
    {
     "data": {
      "text/plain": [
       "matchTypeSimple\n",
       "squad   0.5398\n",
       "duo     0.2959\n",
       "solo    0.1621\n",
       "other   0.0022\n",
       "Name: proportion, dtype: float64"
      ]
     },
     "execution_count": 11,
     "metadata": {},
     "output_type": "execute_result"
    }
   ],
   "source": [
    "# Simplify matchType into solo/duo/squad/other (no function version)\n",
    "train['matchTypeSimple'] = 'other'\n",
    "train.loc[train['matchType'].str.lower().str.contains('solo'),  'matchTypeSimple'] = 'solo'\n",
    "train.loc[train['matchType'].str.lower().str.contains('duo'),   'matchTypeSimple'] = 'duo'\n",
    "train.loc[train['matchType'].str.lower().str.contains('squad'), 'matchTypeSimple'] = 'squad'\n",
    "\n",
    "test['matchTypeSimple'] = 'other'\n",
    "test.loc[test['matchType'].str.lower().str.contains('solo'),  'matchTypeSimple'] = 'solo'\n",
    "test.loc[test['matchType'].str.lower().str.contains('duo'),   'matchTypeSimple'] = 'duo'\n",
    "test.loc[test['matchType'].str.lower().str.contains('squad'), 'matchTypeSimple'] = 'squad'\n",
    "\n",
    "train['matchTypeSimple'].value_counts(normalize=True)"
   ]
  },
  {
   "cell_type": "code",
   "execution_count": 12,
   "id": "01fd0803",
   "metadata": {
    "execution": {
     "iopub.execute_input": "2025-08-20T14:36:09.359356Z",
     "iopub.status.busy": "2025-08-20T14:36:09.358839Z",
     "iopub.status.idle": "2025-08-20T14:36:16.011788Z",
     "shell.execute_reply": "2025-08-20T14:36:16.010901Z"
    },
    "papermill": {
     "duration": 6.660625,
     "end_time": "2025-08-20T14:36:16.013180",
     "exception": false,
     "start_time": "2025-08-20T14:36:09.352555",
     "status": "completed"
    },
    "tags": []
   },
   "outputs": [
    {
     "data": {
      "text/plain": [
       "count   4,446,965.0000\n",
       "mean           94.1948\n",
       "std             6.6864\n",
       "min             2.0000\n",
       "25%            93.0000\n",
       "50%            95.0000\n",
       "75%            97.0000\n",
       "max           100.0000\n",
       "Name: playersJoined, dtype: float64"
      ]
     },
     "execution_count": 12,
     "metadata": {},
     "output_type": "execute_result"
    }
   ],
   "source": [
    "# playersJoined per match (separately for train/test)\n",
    "train_players = train.groupby('matchId')['Id'].count().rename('playersJoined')\n",
    "test_players  = test.groupby('matchId')['Id'].count().rename('playersJoined')\n",
    "train = train.merge(train_players, on='matchId', how='left')\n",
    "test  = test.merge(test_players,  on='matchId', how='left')\n",
    "train['playersJoined'].describe()"
   ]
  },
  {
   "cell_type": "markdown",
   "id": "03f02c2c",
   "metadata": {
    "papermill": {
     "duration": 0.005565,
     "end_time": "2025-08-20T14:36:16.024731",
     "exception": false,
     "start_time": "2025-08-20T14:36:16.019166",
     "status": "completed"
    },
    "tags": []
   },
   "source": [
    "## **Quick EDA**"
   ]
  },
  {
   "cell_type": "code",
   "execution_count": 13,
   "id": "f60f3a21",
   "metadata": {
    "execution": {
     "iopub.execute_input": "2025-08-20T14:36:16.037034Z",
     "iopub.status.busy": "2025-08-20T14:36:16.036719Z",
     "iopub.status.idle": "2025-08-20T14:36:17.616790Z",
     "shell.execute_reply": "2025-08-20T14:36:17.615853Z"
    },
    "papermill": {
     "duration": 1.588021,
     "end_time": "2025-08-20T14:36:17.618234",
     "exception": false,
     "start_time": "2025-08-20T14:36:16.030213",
     "status": "completed"
    },
    "tags": []
   },
   "outputs": [
    {
     "data": {
      "image/png": "[encoded data removed]",
      "text/plain": [
       "<Figure size 600x300 with 1 Axes>"
      ]
     },
     "metadata": {},
     "output_type": "display_data"
    },
    {
     "data": {
      "text/html": [
       "<div>\n",
       "<style scoped>\n",
       "    .dataframe tbody tr th:only-of-type {\n",
       "        vertical-align: middle;\n",
       "    }\n",
       "\n",
       "    .dataframe tbody tr th {\n",
       "        vertical-align: top;\n",
       "    }\n",
       "\n",
       "    .dataframe thead th {\n",
       "        text-align: right;\n",
       "    }\n",
       "</style>\n",
       "<table border=\"1\" class=\"dataframe\">\n",
       "  <thead>\n",
       "    <tr style=\"text-align: right;\">\n",
       "      <th></th>\n",
       "      <th>winPlacePerc</th>\n",
       "    </tr>\n",
       "  </thead>\n",
       "  <tbody>\n",
       "    <tr>\n",
       "      <th>count</th>\n",
       "      <td>4,446,965.0000</td>\n",
       "    </tr>\n",
       "    <tr>\n",
       "      <th>mean</th>\n",
       "      <td>0.4728</td>\n",
       "    </tr>\n",
       "    <tr>\n",
       "      <th>std</th>\n",
       "      <td>0.3074</td>\n",
       "    </tr>\n",
       "    <tr>\n",
       "      <th>min</th>\n",
       "      <td>0.0000</td>\n",
       "    </tr>\n",
       "    <tr>\n",
       "      <th>25%</th>\n",
       "      <td>0.2000</td>\n",
       "    </tr>\n",
       "    <tr>\n",
       "      <th>50%</th>\n",
       "      <td>0.4583</td>\n",
       "    </tr>\n",
       "    <tr>\n",
       "      <th>75%</th>\n",
       "      <td>0.7407</td>\n",
       "    </tr>\n",
       "    <tr>\n",
       "      <th>max</th>\n",
       "      <td>1.0000</td>\n",
       "    </tr>\n",
       "  </tbody>\n",
       "</table>\n",
       "</div>"
      ],
      "text/plain": [
       "        winPlacePerc\n",
       "count 4,446,965.0000\n",
       "mean          0.4728\n",
       "std           0.3074\n",
       "min           0.0000\n",
       "25%           0.2000\n",
       "50%           0.4583\n",
       "75%           0.7407\n",
       "max           1.0000"
      ]
     },
     "execution_count": 13,
     "metadata": {},
     "output_type": "execute_result"
    }
   ],
   "source": [
    "# Target distribution\n",
    "train['winPlacePerc'].plot(kind='hist', bins=50, title='winPlacePerc Distribution', figsize=(6,3))\n",
    "plt.show()\n",
    "train[['winPlacePerc']].describe()"
   ]
  },
  {
   "cell_type": "code",
   "execution_count": 14,
   "id": "cfec557d",
   "metadata": {
    "execution": {
     "iopub.execute_input": "2025-08-20T14:36:17.632383Z",
     "iopub.status.busy": "2025-08-20T14:36:17.632109Z",
     "iopub.status.idle": "2025-08-20T14:36:18.018080Z",
     "shell.execute_reply": "2025-08-20T14:36:18.017208Z"
    },
    "papermill": {
     "duration": 0.3945,
     "end_time": "2025-08-20T14:36:18.019486",
     "exception": false,
     "start_time": "2025-08-20T14:36:17.624986",
     "status": "completed"
    },
    "tags": []
   },
   "outputs": [
    {
     "data": {
      "text/plain": [
       "['matchTypeSimple']"
      ]
     },
     "execution_count": 14,
     "metadata": {},
     "output_type": "execute_result"
    }
   ],
   "source": [
    "drop_cols_tmp = ['Id','groupId','matchId','matchType']  # 필요시 더 추가\n",
    "corr_cols = [c for c in train.columns if c not in drop_cols_tmp]\n",
    "\n",
    "# 비-수치형 컬럼 점검\n",
    "non_numeric = train[corr_cols].select_dtypes(exclude=['number']).columns.tolist()\n",
    "non_numeric\n"
   ]
  },
  {
   "cell_type": "code",
   "execution_count": 15,
   "id": "241361d3",
   "metadata": {
    "execution": {
     "iopub.execute_input": "2025-08-20T14:36:18.033559Z",
     "iopub.status.busy": "2025-08-20T14:36:18.033173Z",
     "iopub.status.idle": "2025-08-20T14:36:30.174312Z",
     "shell.execute_reply": "2025-08-20T14:36:30.173444Z"
    },
    "papermill": {
     "duration": 12.149819,
     "end_time": "2025-08-20T14:36:30.175680",
     "exception": false,
     "start_time": "2025-08-20T14:36:18.025861",
     "status": "completed"
    },
    "tags": []
   },
   "outputs": [
    {
     "data": {
      "text/plain": [
       "winPlacePerc      1.0000\n",
       "walkDistance      0.8109\n",
       "killPlace         0.7191\n",
       "totalDistance     0.6770\n",
       "boosts            0.6342\n",
       "weaponsAcquired   0.5838\n",
       "damageDealt       0.4405\n",
       "heals             0.4279\n",
       "kills             0.4199\n",
       "longestKill       0.4102\n",
       "killStreaks       0.3776\n",
       "rideDistance      0.3429\n",
       "assists           0.2994\n",
       "DBNOs             0.2800\n",
       "headshotKills     0.2777\n",
       "Name: winPlacePerc, dtype: float64"
      ]
     },
     "execution_count": 15,
     "metadata": {},
     "output_type": "execute_result"
    }
   ],
   "source": [
    "# Correlation top 15 (fast)\n",
    "corr_cols_num = train[corr_cols].select_dtypes(include=['number']).columns.tolist()\n",
    "corr = train[corr_cols_num].corr()['winPlacePerc'].abs().sort_values(ascending=False)\n",
    "corr.head(15)\n"
   ]
  },
  {
   "cell_type": "markdown",
   "id": "e1ef08c3",
   "metadata": {
    "papermill": {
     "duration": 0.006142,
     "end_time": "2025-08-20T14:36:30.188360",
     "exception": false,
     "start_time": "2025-08-20T14:36:30.182218",
     "status": "completed"
    },
    "tags": []
   },
   "source": [
    "## **Encode**"
   ]
  },
  {
   "cell_type": "code",
   "execution_count": 16,
   "id": "db523932",
   "metadata": {
    "execution": {
     "iopub.execute_input": "2025-08-20T14:36:30.202239Z",
     "iopub.status.busy": "2025-08-20T14:36:30.201945Z",
     "iopub.status.idle": "2025-08-20T14:36:33.397428Z",
     "shell.execute_reply": "2025-08-20T14:36:33.396660Z"
    },
    "papermill": {
     "duration": 3.204168,
     "end_time": "2025-08-20T14:36:33.398787",
     "exception": false,
     "start_time": "2025-08-20T14:36:30.194619",
     "status": "completed"
    },
    "tags": []
   },
   "outputs": [
    {
     "data": {
      "text/plain": [
       "31"
      ]
     },
     "execution_count": 16,
     "metadata": {},
     "output_type": "execute_result"
    }
   ],
   "source": [
    "\n",
    "# One-hot for matchTypeSimple\n",
    "train = pd.get_dummies(train, columns=['matchTypeSimple'])\n",
    "test  = pd.get_dummies(test,  columns=['matchTypeSimple'])\n",
    "\n",
    "target = 'winPlacePerc'\n",
    "drop_cols = ['Id','groupId','matchId','matchType', target]\n",
    "\n",
    "features = [c for c in train.columns if c not in drop_cols]\n",
    "\n",
    "# Align columns (no functions)\n",
    "for c in features:\n",
    "    if c not in test.columns:\n",
    "        test[c] = 0\n",
    "for c in test.columns:\n",
    "    if c not in features and c not in ['Id','groupId','matchId','matchType']:\n",
    "        if c in train.columns:\n",
    "            pass\n",
    "        else:\n",
    "            train[c] = 0\n",
    "\n",
    "features = [c for c in train.columns if c not in drop_cols]\n",
    "len(features)\n"
   ]
  },
  {
   "cell_type": "markdown",
   "id": "18cdf396",
   "metadata": {
    "papermill": {
     "duration": 0.006181,
     "end_time": "2025-08-20T14:36:33.411768",
     "exception": false,
     "start_time": "2025-08-20T14:36:33.405587",
     "status": "completed"
    },
    "tags": []
   },
   "source": [
    "## **Train / Test Split**"
   ]
  },
  {
   "cell_type": "code",
   "execution_count": 17,
   "id": "97ac4ef0",
   "metadata": {
    "execution": {
     "iopub.execute_input": "2025-08-20T14:36:33.425771Z",
     "iopub.status.busy": "2025-08-20T14:36:33.425460Z",
     "iopub.status.idle": "2025-08-20T14:36:35.351268Z",
     "shell.execute_reply": "2025-08-20T14:36:35.350195Z"
    },
    "papermill": {
     "duration": 1.934904,
     "end_time": "2025-08-20T14:36:35.352954",
     "exception": false,
     "start_time": "2025-08-20T14:36:33.418050",
     "status": "completed"
    },
    "tags": []
   },
   "outputs": [
    {
     "data": {
      "text/plain": [
       "((900000, 31), (100000, 31))"
      ]
     },
     "execution_count": 17,
     "metadata": {},
     "output_type": "execute_result"
    }
   ],
   "source": [
    "\n",
    "MAX_TRAIN_ROWS = 1_000_000  # 시간 여유되면 늘리기\n",
    "if len(train) > MAX_TRAIN_ROWS:\n",
    "    train_sample = train.sample(MAX_TRAIN_ROWS, random_state=SEED)\n",
    "else:\n",
    "    train_sample = train\n",
    "\n",
    "X = train_sample[features]\n",
    "y = train_sample[target].astype(np.float32)\n",
    "\n",
    "X_train, X_valid, y_train, y_valid = train_test_split(\n",
    "    X, y, test_size=0.1, random_state=SEED\n",
    ")\n",
    "\n",
    "X_train.shape, X_valid.shape\n"
   ]
  },
  {
   "cell_type": "markdown",
   "id": "e5665e57",
   "metadata": {
    "papermill": {
     "duration": 0.006697,
     "end_time": "2025-08-20T14:36:35.367001",
     "exception": false,
     "start_time": "2025-08-20T14:36:35.360304",
     "status": "completed"
    },
    "tags": []
   },
   "source": [
    "## **LightGBM Baseline**"
   ]
  },
  {
   "cell_type": "code",
   "execution_count": 18,
   "id": "e5a637e5",
   "metadata": {
    "execution": {
     "iopub.execute_input": "2025-08-20T14:36:35.381423Z",
     "iopub.status.busy": "2025-08-20T14:36:35.381091Z",
     "iopub.status.idle": "2025-08-20T14:38:26.199629Z",
     "shell.execute_reply": "2025-08-20T14:38:26.198746Z"
    },
    "papermill": {
     "duration": 110.827717,
     "end_time": "2025-08-20T14:38:26.201282",
     "exception": false,
     "start_time": "2025-08-20T14:36:35.373565",
     "status": "completed"
    },
    "tags": []
   },
   "outputs": [
    {
     "name": "stdout",
     "output_type": "stream",
     "text": [
      "[LightGBM] [Info] Auto-choosing col-wise multi-threading, the overhead of testing was 0.216188 seconds.\n",
      "You can set `force_col_wise=true` to remove the overhead.\n",
      "[LightGBM] [Info] Total Bins 3228\n",
      "[LightGBM] [Info] Number of data points in the train set: 900000, number of used features: 31\n",
      "[LightGBM] [Info] Start training from score 0.472680\n",
      "Training until validation scores don't improve for 100 rounds\n",
      "[200]\ttrain's rmse: 0.0784615\tvalid's rmse: 0.0790586\n",
      "[400]\ttrain's rmse: 0.0767039\tvalid's rmse: 0.077945\n",
      "[600]\ttrain's rmse: 0.0758505\tvalid's rmse: 0.0776363\n",
      "[800]\ttrain's rmse: 0.0751989\tvalid's rmse: 0.0774833\n",
      "[1000]\ttrain's rmse: 0.0746401\tvalid's rmse: 0.0773676\n",
      "[1200]\ttrain's rmse: 0.0741515\tvalid's rmse: 0.0772963\n",
      "[1400]\ttrain's rmse: 0.073691\tvalid's rmse: 0.0772418\n",
      "[1600]\ttrain's rmse: 0.0732697\tvalid's rmse: 0.0771986\n",
      "[1800]\ttrain's rmse: 0.0728541\tvalid's rmse: 0.0771668\n",
      "[2000]\ttrain's rmse: 0.0724665\tvalid's rmse: 0.0771453\n",
      "Did not meet early stopping. Best iteration is:\n",
      "[1987]\ttrain's rmse: 0.0724924\tvalid's rmse: 0.0771435\n"
     ]
    }
   ],
   "source": [
    "lgb_train = lgb.Dataset(X_train, y_train)\n",
    "lgb_valid = lgb.Dataset(X_valid, y_valid, reference=lgb_train)\n",
    "\n",
    "params = {\n",
    "    'objective': 'regression',\n",
    "    'metric': 'rmse',\n",
    "    'learning_rate': 0.05,\n",
    "    'num_leaves': 64,\n",
    "    'feature_fraction': 0.7,\n",
    "    'bagging_fraction': 0.7,\n",
    "    'bagging_freq': 1,\n",
    "    'min_data_in_leaf': 100,\n",
    "    'random_state': SEED,\n",
    "    'n_jobs': -1\n",
    "}\n",
    "\n",
    "model = lgb.train(\n",
    "    params,\n",
    "    lgb_train,\n",
    "    num_boost_round=2000,\n",
    "    valid_sets=[lgb_train, lgb_valid],\n",
    "    valid_names=['train','valid'],\n",
    "    callbacks=[\n",
    "        lgb.early_stopping(stopping_rounds=100),\n",
    "        lgb.log_evaluation(period=200)\n",
    "    ]\n",
    ")\n"
   ]
  },
  {
   "cell_type": "code",
   "execution_count": 19,
   "id": "378b5d2a",
   "metadata": {
    "execution": {
     "iopub.execute_input": "2025-08-20T14:38:26.216713Z",
     "iopub.status.busy": "2025-08-20T14:38:26.216428Z",
     "iopub.status.idle": "2025-08-20T14:38:35.749193Z",
     "shell.execute_reply": "2025-08-20T14:38:35.748311Z"
    },
    "papermill": {
     "duration": 9.542088,
     "end_time": "2025-08-20T14:38:35.750643",
     "exception": false,
     "start_time": "2025-08-20T14:38:26.208555",
     "status": "completed"
    },
    "tags": []
   },
   "outputs": [
    {
     "data": {
      "text/plain": [
       "0.07714348880091364"
      ]
     },
     "execution_count": 19,
     "metadata": {},
     "output_type": "execute_result"
    }
   ],
   "source": [
    "\n",
    "# Validation RMSE\n",
    "pred_valid = model.predict(X_valid, num_iteration=model.best_iteration)\n",
    "rmse = mean_squared_error(y_valid, pred_valid, squared=False)\n",
    "rmse\n"
   ]
  },
  {
   "cell_type": "markdown",
   "id": "b068e7f1",
   "metadata": {
    "papermill": {
     "duration": 0.00706,
     "end_time": "2025-08-20T14:38:35.765056",
     "exception": false,
     "start_time": "2025-08-20T14:38:35.757996",
     "status": "completed"
    },
    "tags": []
   },
   "source": [
    "## **Save Submission**"
   ]
  },
  {
   "cell_type": "code",
   "execution_count": 20,
   "id": "b4e62fc6",
   "metadata": {
    "execution": {
     "iopub.execute_input": "2025-08-20T14:38:35.780698Z",
     "iopub.status.busy": "2025-08-20T14:38:35.780093Z",
     "iopub.status.idle": "2025-08-20T14:41:46.156811Z",
     "shell.execute_reply": "2025-08-20T14:41:46.155481Z"
    },
    "papermill": {
     "duration": 190.398303,
     "end_time": "2025-08-20T14:41:46.170441",
     "exception": false,
     "start_time": "2025-08-20T14:38:35.772138",
     "status": "completed"
    },
    "tags": []
   },
   "outputs": [
    {
     "data": {
      "text/html": [
       "<div>\n",
       "<style scoped>\n",
       "    .dataframe tbody tr th:only-of-type {\n",
       "        vertical-align: middle;\n",
       "    }\n",
       "\n",
       "    .dataframe tbody tr th {\n",
       "        vertical-align: top;\n",
       "    }\n",
       "\n",
       "    .dataframe thead th {\n",
       "        text-align: right;\n",
       "    }\n",
       "</style>\n",
       "<table border=\"1\" class=\"dataframe\">\n",
       "  <thead>\n",
       "    <tr style=\"text-align: right;\">\n",
       "      <th></th>\n",
       "      <th>Id</th>\n",
       "      <th>winPlacePerc</th>\n",
       "    </tr>\n",
       "  </thead>\n",
       "  <tbody>\n",
       "    <tr>\n",
       "      <th>0</th>\n",
       "      <td>9329eb41e215eb</td>\n",
       "      <td>0.2120</td>\n",
       "    </tr>\n",
       "    <tr>\n",
       "      <th>1</th>\n",
       "      <td>639bd0dcd7bda8</td>\n",
       "      <td>0.9215</td>\n",
       "    </tr>\n",
       "    <tr>\n",
       "      <th>2</th>\n",
       "      <td>63d5c8ef8dfe91</td>\n",
       "      <td>0.6993</td>\n",
       "    </tr>\n",
       "    <tr>\n",
       "      <th>3</th>\n",
       "      <td>cf5b81422591d1</td>\n",
       "      <td>0.5341</td>\n",
       "    </tr>\n",
       "    <tr>\n",
       "      <th>4</th>\n",
       "      <td>ee6a295187ba21</td>\n",
       "      <td>0.9242</td>\n",
       "    </tr>\n",
       "  </tbody>\n",
       "</table>\n",
       "</div>"
      ],
      "text/plain": [
       "               Id  winPlacePerc\n",
       "0  9329eb41e215eb        0.2120\n",
       "1  639bd0dcd7bda8        0.9215\n",
       "2  63d5c8ef8dfe91        0.6993\n",
       "3  cf5b81422591d1        0.5341\n",
       "4  ee6a295187ba21        0.9242"
      ]
     },
     "execution_count": 20,
     "metadata": {},
     "output_type": "execute_result"
    }
   ],
   "source": [
    "X_test = test[features]\n",
    "test_pred = model.predict(X_test, num_iteration=model.best_iteration)\n",
    "test_pred = np.clip(test_pred, 0.0, 1.0)  # clip to [0,1]\n",
    "\n",
    "submission = pd.DataFrame({\n",
    "    'Id': test['Id'],\n",
    "    'winPlacePerc': test_pred\n",
    "})\n",
    "submission.head()"
   ]
  },
  {
   "cell_type": "code",
   "execution_count": 21,
   "id": "9623db67",
   "metadata": {
    "execution": {
     "iopub.execute_input": "2025-08-20T14:41:46.187451Z",
     "iopub.status.busy": "2025-08-20T14:41:46.187082Z",
     "iopub.status.idle": "2025-08-20T14:41:51.317124Z",
     "shell.execute_reply": "2025-08-20T14:41:51.316042Z"
    },
    "papermill": {
     "duration": 5.140632,
     "end_time": "2025-08-20T14:41:51.318791",
     "exception": false,
     "start_time": "2025-08-20T14:41:46.178159",
     "status": "completed"
    },
    "tags": []
   },
   "outputs": [
    {
     "data": {
      "text/plain": [
       "'/kaggle/working/submission.csv'"
      ]
     },
     "execution_count": 21,
     "metadata": {},
     "output_type": "execute_result"
    }
   ],
   "source": [
    "sub_path = os.path.join(WORK_DIR, 'submission.csv')\n",
    "submission.to_csv(sub_path, index=False)\n",
    "sub_path\n"
   ]
  },
  {
   "cell_type": "markdown",
   "id": "64b84279",
   "metadata": {},
   "source": [
    "\n",
    "# 📈 PUBG Finish Placement Prediction — 파라미터 튜닝 & 앙상블 확장\n",
    "**자동 추가됨:** 2025-09-02 07:19:10\n",
    "\n",
    "아래 섹션은 기존 노트북의 워크플로에 **모델 파라미터 튜닝**과 **모델 앙상블**을 체계적으로 추가합니다.\n",
    "\n",
    "- **튜닝**: `RandomizedSearchCV` 기반으로 `RandomForestRegressor`, `GradientBoostingRegressor`를 탐색하고, 가능하면 `XGBRegressor`/`LGBMRegressor`도 자동으로 시도합니다.\n",
    "- **앙상블**: 튜닝된 개별 모델의 예측을 **StackingRegressor** (최종 메타모델: `RidgeCV`)로 결합하고, 보조적으로 **단순 가중 평균(학습 기반 가중치)**도 제공합니다.\n",
    "- **메트릭**: 캐글 대회 평가와 동일하게 **MAE (Mean Absolute Error)** 를 기본으로 사용합니다.\n",
    "- **출력**: `test`가 있다면 **submission 파일**(`submission_tuned_ensemble.csv`)까지 생성합니다.\n",
    "\n",
    "> ⚠️ 이 섹션은 **기존 노트북 변수**(`X_train`, `y_train`, `X_valid`, `y_valid`, `X_test`, `train`, `test`)를 **자동 감지**해 사용합니다.  \n",
    "> 존재하지 않는 경우에는 `train`/`test`로부터 **전처리**(ID 제거, 범주형 더미화 등)를 수행합니다.\n"
   ]
  },
  {
   "cell_type": "code",
   "execution_count": null,
   "id": "34be2e5f",
   "metadata": {},
   "outputs": [],
   "source": [
    "\n",
    "# === 공통 설정 ===\n",
    "import warnings, math, sys, numpy as np, pandas as pd\n",
    "warnings.filterwarnings(\"ignore\")\n",
    "\n",
    "RANDOM_STATE = 42\n",
    "np.random.seed(RANDOM_STATE)\n",
    "\n",
    "from typing import Dict, Any, Tuple, Optional\n",
    "from sklearn.metrics import mean_absolute_error\n",
    "from sklearn.model_selection import train_test_split, KFold, RandomizedSearchCV\n",
    "from sklearn.preprocessing import StandardScaler\n",
    "from sklearn.compose import ColumnTransformer\n",
    "from sklearn.pipeline import Pipeline\n",
    "from sklearn.impute import SimpleImputer\n",
    "from sklearn.linear_model import RidgeCV, LinearRegression\n",
    "from sklearn.ensemble import RandomForestRegressor, GradientBoostingRegressor, StackingRegressor\n",
    "\n",
    "# xgboost/lightgbm가 설치되어 있으면 사용 (없어도 문제 없이 진행)\n",
    "has_xgb = False\n",
    "has_lgbm = False\n",
    "try:\n",
    "    from xgboost import XGBRegressor\n",
    "    has_xgb = True\n",
    "except Exception as e:\n",
    "    print(\"[INFO] xgboost 미설치 또는 로드 실패:\", e)\n",
    "\n",
    "try:\n",
    "    from lightgbm import LGBMRegressor\n",
    "    has_lgbm = True\n",
    "except Exception as e:\n",
    "    print(\"[INFO] lightgbm 미설치 또는 로드 실패:\", e)\n",
    "\n",
    "def infer_datasets(glob: Dict[str, Any]) -> Tuple[pd.DataFrame, pd.Series, Optional[pd.DataFrame], Optional[pd.Series], Optional[pd.DataFrame]]:\n",
    "    \\\"\\\"\\\"\n",
    "    가능한 경우:\n",
    "      - X_train, y_train[, X_valid, y_valid, X_test] 가 이미 존재\n",
    "      - 그렇지 않으면 train/test DataFrame으로부터 전처리하여 생성\n",
    "    반환: X_train, y_train, X_valid, y_valid, X_test\n",
    "    \\\"\\\"\\\"\n",
    "    # 1) 이미 준비된 feature matrix가 있으면 그대로 사용\n",
    "    X_train = glob.get(\"X_train\", None)\n",
    "    y_train = glob.get(\"y_train\", None)\n",
    "    X_valid = glob.get(\"X_valid\", None)\n",
    "    y_valid = glob.get(\"y_valid\", None)\n",
    "    X_test  = glob.get(\"X_test\", None)\n",
    "\n",
    "    if X_train is not None and y_train is not None:\n",
    "        # ensure pandas DataFrame/Series\n",
    "        if not isinstance(X_train, pd.DataFrame):\n",
    "            X_train = pd.DataFrame(X_train)\n",
    "        if not isinstance(y_train, (pd.Series, pd.DataFrame)):\n",
    "            y_train = pd.Series(y_train, name=\"winPlacePerc\")\n",
    "        if isinstance(y_train, pd.DataFrame):\n",
    "            y_train = y_train.iloc[:,0]\n",
    "\n",
    "        # if no valid set, try to find y_valid\n",
    "        if X_valid is not None and y_valid is not None:\n",
    "            if not isinstance(X_valid, pd.DataFrame):\n",
    "                X_valid = pd.DataFrame(X_valid)\n",
    "            if isinstance(y_valid, pd.DataFrame):\n",
    "                y_valid = y_valid.iloc[:,0]\n",
    "            elif not isinstance(y_valid, pd.Series):\n",
    "                y_valid = pd.Series(y_valid, name=\"winPlacePerc\")\n",
    "        else:\n",
    "            X_valid, y_valid = None, None\n",
    "\n",
    "        # return immediately, rely on user's preprocessing\n",
    "        return X_train, y_train, X_valid, y_valid, X_test\n",
    "\n",
    "    # 2) train/test 로부터 구성\n",
    "    if \"train\" not in glob:\n",
    "        raise RuntimeError(\"train DataFrame이 필요합니다. (혹은 X_train/y_train을 미리 정의하세요)\")\n",
    "\n",
    "    train_df: pd.DataFrame = glob[\"train\"].copy()\n",
    "    test_df: Optional[pd.DataFrame] = glob.get(\"test\", None)\n",
    "    target_col = \"winPlacePerc\"\n",
    "    if target_col not in train_df.columns:\n",
    "        # 일부 커스텀 노트북에서는 다른 이름을 쓸 수 있으므로 힌트 출력\n",
    "        raise RuntimeError(f\"train DataFrame에 '{target_col}' 컬럼이 없습니다. 기존 변수(X_train, y_train)를 제공해 주세요.\")\n",
    "\n",
    "    # ID/키 컬럼 제거\n",
    "    drop_cols = [c for c in [\"Id\", \"groupId\", \"matchId\"] if c in train_df.columns]\n",
    "    # 범주형 처리: matchType\n",
    "    cat_cols = [c for c in train_df.select_dtypes(include=[\"object\", \"category\"]).columns if c != target_col]\n",
    "\n",
    "    y = train_df[target_col].astype(float).clip(0.0, 1.0)\n",
    "    X = train_df.drop([target_col] + drop_cols, axis=1, errors=\"ignore\")\n",
    "\n",
    "    # 원-핫 인코딩 (matchType 등)\n",
    "    X = pd.get_dummies(X, columns=cat_cols, drop_first=True)\n",
    "\n",
    "    # 결측치 보정\n",
    "    X = X.replace([np.inf, -np.inf], np.nan)\n",
    "    X = X.fillna(0)\n",
    "\n",
    "    # 검증 세트 분할(만약 사용자가 이미 만들지 않았다면)\n",
    "    X_tr, X_va, y_tr, y_va = train_test_split(X, y, test_size=0.15, random_state=42)\n",
    "\n",
    "    # test 처리\n",
    "    X_te = None\n",
    "    if test_df is not None:\n",
    "        test_df = test_df.copy()\n",
    "        Xtest = test_df.drop(drop_cols, axis=1, errors=\"ignore\")\n",
    "        cat_cols_te = [c for c in Xtest.select_dtypes(include=[\"object\", \"category\"]).columns]\n",
    "        Xtest = pd.get_dummies(Xtest, columns=cat_cols_te, drop_first=True)\n",
    "        Xtest = Xtest.replace([np.inf, -np.inf], np.nan).fillna(0)\n",
    "        # 학습과 동일한 컬럼 정렬(누락/추가 대비)\n",
    "        Xtest = Xtest.reindex(columns=X.columns, fill_value=0)\n",
    "        X_te = Xtest\n",
    "\n",
    "    return X_tr, y_tr, X_va, y_va, X_te\n",
    "\n",
    "print(\"[OK] 데이터셋 자동 감지/구성 준비됨.\")\n"
   ]
  },
  {
   "cell_type": "code",
   "execution_count": null,
   "id": "785358a5",
   "metadata": {},
   "outputs": [],
   "source": [
    "\n",
    "# === 하이퍼파라미터 튜닝 ===\n",
    "from scipy.stats import randint, uniform, loguniform\n",
    "\n",
    "X_tr, y_tr, X_va, y_va, X_te = infer_datasets(globals())\n",
    "\n",
    "scoring = \"neg_mean_absolute_error\"\n",
    "cv = KFold(n_splits=3, shuffle=True, random_state=RANDOM_STATE)\n",
    "\n",
    "search_results = {}\n",
    "best_models = {}\n",
    "\n",
    "# 1) RandomForest\n",
    "rf = RandomForestRegressor(random_state=RANDOM_STATE, n_jobs=-1)\n",
    "rf_dist = {\n",
    "    \"n_estimators\": randint(300, 1200),\n",
    "    \"max_depth\": [None] + list(range(6, 28)),\n",
    "    \"min_samples_split\": randint(2, 12),\n",
    "    \"min_samples_leaf\": randint(1, 6),\n",
    "    \"max_features\": [\"sqrt\", \"log2\", None],\n",
    "    \"bootstrap\": [True, False],\n",
    "}\n",
    "rf_rs = RandomizedSearchCV(rf, rf_dist, n_iter=35, cv=cv, scoring=scoring, random_state=RANDOM_STATE, n_jobs=-1, verbose=1)\n",
    "rf_rs.fit(X_tr, y_tr)\n",
    "best_models[\"rf\"] = rf_rs.best_estimator_\n",
    "search_results[\"rf\"] = rf_rs.cv_results_\n",
    "print(\"[RF] best params:\", rf_rs.best_params_)\n",
    "\n",
    "# 2) GradientBoosting\n",
    "gb = GradientBoostingRegressor(random_state=RANDOM_STATE)\n",
    "gb_dist = {\n",
    "    \"n_estimators\": randint(300, 1100),\n",
    "    \"learning_rate\": loguniform(1e-3, 3e-1),\n",
    "    \"max_depth\": randint(2, 7),\n",
    "    \"min_samples_leaf\": randint(1, 6),\n",
    "    \"subsample\": uniform(0.6, 0.4),  # 0.6~1.0\n",
    "    \"loss\": [\"squared_error\", \"absolute_error\", \"huber\"],\n",
    "}\n",
    "gb_rs = RandomizedSearchCV(gb, gb_dist, n_iter=35, cv=cv, scoring=scoring, random_state=RANDOM_STATE, n_jobs=-1, verbose=1)\n",
    "gb_rs.fit(X_tr, y_tr)\n",
    "best_models[\"gb\"] = gb_rs.best_estimator_\n",
    "search_results[\"gb\"] = gb_rs.cv_results_\n",
    "print(\"[GB] best params:\", gb_rs.best_params_)\n",
    "\n",
    "# 3) XGBoost (optional)\n",
    "if has_xgb:\n",
    "    xgb = XGBRegressor(\n",
    "        random_state=RANDOM_STATE,\n",
    "        tree_method=\"hist\",\n",
    "        n_estimators=600,\n",
    "        max_depth=6,\n",
    "        learning_rate=0.05,\n",
    "        subsample=0.8,\n",
    "        colsample_bytree=0.8,\n",
    "        reg_alpha=0.0,\n",
    "        reg_lambda=1.0,\n",
    "        objective=\"reg:squarederror\",\n",
    "        n_jobs=-1,\n",
    "    )\n",
    "    xgb_dist = {\n",
    "        \"n_estimators\": randint(400, 1400),\n",
    "        \"max_depth\": randint(3, 10),\n",
    "        \"learning_rate\": loguniform(1e-3, 3e-1),\n",
    "        \"subsample\": uniform(0.6, 0.4),\n",
    "        \"colsample_bytree\": uniform(0.6, 0.4),\n",
    "        \"reg_alpha\": loguniform(1e-8, 10),\n",
    "        \"reg_lambda\": loguniform(1e-3, 50),\n",
    "        \"min_child_weight\": randint(1, 10),\n",
    "        \"gamma\": loguniform(1e-8, 10),\n",
    "    }\n",
    "    xgb_rs = RandomizedSearchCV(xgb, xgb_dist, n_iter=35, cv=cv, scoring=scoring, random_state=RANDOM_STATE, n_jobs=-1, verbose=1)\n",
    "    xgb_rs.fit(X_tr, y_tr)\n",
    "    best_models[\"xgb\"] = xgb_rs.best_estimator_\n",
    "    search_results[\"xgb\"] = xgb_rs.cv_results_\n",
    "    print(\"[XGB] best params:\", xgb_rs.best_params_)\n",
    "else:\n",
    "    print(\"[XGB] not downloaded\")\n",
    "\n",
    "# 4) LightGBM (optional)\n",
    "if has_lgbm:\n",
    "    lgbm = LGBMRegressor(random_state=RANDOM_STATE, n_estimators=1000)\n",
    "    lgbm_dist = {\n",
    "        \"n_estimators\": randint(400, 1600),\n",
    "        \"num_leaves\": randint(16, 128),\n",
    "        \"max_depth\": [-1] + list(range(4, 16)),\n",
    "        \"learning_rate\": loguniform(1e-3, 3e-1),\n",
    "        \"subsample\": uniform(0.6, 0.4),\n",
    "        \"colsample_bytree\": uniform(0.6, 0.4),\n",
    "        \"min_child_samples\": randint(5, 50),\n",
    "        \"reg_alpha\": loguniform(1e-8, 10),\n",
    "        \"reg_lambda\": loguniform(1e-3, 50),\n",
    "    }\n",
    "    lgbm_rs = RandomizedSearchCV(lgbm, lgbm_dist, n_iter=35, cv=cv, scoring=scoring, random_state=RANDOM_STATE, n_jobs=-1, verbose=1)\n",
    "    lgbm_rs.fit(X_tr, y_tr)\n",
    "    best_models[\"lgbm\"] = lgbm_rs.best_estimator_\n",
    "    search_results[\"lgbm\"] = lgbm_rs.cv_results_\n",
    "    print(\"[LGBM] best params:\", lgbm_rs.best_params_)\n",
    "else:\n",
    "    print(\"[LGBM] not downloaded\")\n",
    "\n",
    "# 검증 MAE 출력\n",
    "def eval_model(name, model, X_tr, y_tr, X_va, y_va):\n",
    "    model.fit(X_tr, y_tr)\n",
    "    if X_va is not None and y_va is not None:\n",
    "        pred = model.predict(X_va)\n",
    "        mae = mean_absolute_error(y_va, np.clip(pred, 0, 1))\n",
    "        print(f\"[{name}] valid MAE: {mae:.6f}\")\n",
    "        return mae\n",
    "    return None\n",
    "\n",
    "valid_mae = {}\n",
    "for name, model in best_models.items():\n",
    "    valid_mae[name] = eval_model(name, model, X_tr, y_tr, X_va, y_va)\n",
    "\n",
    "print(\"MAE:\", valid_mae)\n"
   ]
  },
  {
   "cell_type": "code",
   "execution_count": null,
   "id": "4766722b",
   "metadata": {},
   "outputs": [],
   "source": [
    "\n",
    "# === 앙상블 (Stacking + 가중 평균) ===\n",
    "base_estimators = []\n",
    "for key in [\"rf\", \"gb\", \"xgb\", \"lgbm\"]:\n",
    "    if key in globals()[\"best_models\"]:\n",
    "        base_estimators.append((key, globals()[\"best_models\"][key]))\n",
    "\n",
    "if len(base_estimators) < 2:\n",
    "    print(\"models lack (at least two models needed)\")\n",
    "else:\n",
    "    # 1) Stacking\n",
    "    final_estimator = RidgeCV(alphas=(0.01, 0.1, 1.0, 10.0))\n",
    "    stacker = StackingRegressor(estimators=base_estimators, final_estimator=final_estimator, n_jobs=-1, passthrough=False, cv=5)\n",
    "    stacker.fit(X_tr, y_tr)\n",
    "    if X_va is not None and y_va is not None:\n",
    "        pred_st = stacker.predict(X_va).clip(0, 1)\n",
    "        mae_st = mean_absolute_error(y_va, pred_st)\n",
    "        print(f\"[STACKING] valid MAE: {mae_st:.6f}\")\n",
    "\n",
    "    # 2) 학습 기반 가중 평균 (선형회귀로 가중치 학습; 가중치 제약은 두지 않음)\n",
    "    #    성능/안정성을 위해 Ridge를 사용\n",
    "    oof_preds = []\n",
    "    for name, model in base_estimators:\n",
    "        # 각 모델을 학습 데이터 전체로 학습 후, 검증 세트 예측을 쌓는다\n",
    "        model.fit(X_tr, y_tr)\n",
    "        if X_va is not None and y_va is not None:\n",
    "            oof_preds.append(model.predict(X_va).reshape(-1, 1))\n",
    "    if X_va is not None and y_va is not None:\n",
    "        oof_mat = np.hstack(oof_preds)\n",
    "        weight_learner = RidgeCV(alphas=(0.01, 0.1, 1.0, 10.0))\n",
    "        weight_learner.fit(oof_mat, y_va)\n",
    "        learned_weights = weight_learner.coef_\n",
    "        w_norm = learned_weights / (np.abs(learned_weights).sum() + 1e-9)\n",
    "        blended_pred = (oof_mat @ w_norm).clip(0, 1)\n",
    "        mae_blend = mean_absolute_error(y_va, blended_pred)\n",
    "        print(f\"[BLEND] valid MAE: {mae_blend:.6f} (weights: {w_norm})\")\n",
    "\n",
    "    # 제출 파일 생성\n",
    "    if X_te is not None:\n",
    "        # 추천: stacking 사용. 보조로 blend도 생성\n",
    "        sub_pred_stack = np.clip(stacker.predict(X_te), 0, 1)\n",
    "        sub_df_stack = None\n",
    "        if \"test\" in globals() and \"Id\" in globals()[\"test\"].columns:\n",
    "            sub_df_stack = pd.DataFrame({\"Id\": globals()[\"test\"][\"Id\"].values, \"winPlacePerc\": sub_pred_stack})\n",
    "        else:\n",
    "            sub_df_stack = pd.DataFrame({\"winPlacePerc\": sub_pred_stack})\n",
    "\n",
    "        stack_path = \"submission_tuned_ensemble_stacking.csv\"\n",
    "        sub_df_stack.to_csv(stack_path, index=False)\n",
    "        print(f\"[SAVE] {stack_path} 저장 완료\")\n",
    "\n",
    "        # blend도 가능하면 저장\n",
    "        try:\n",
    "            base_preds_test = []\n",
    "            for name, model in base_estimators:\n",
    "                base_preds_test.append(model.predict(X_te).reshape(-1, 1))\n",
    "            test_mat = np.hstack(base_preds_test)\n",
    "            # 가중치가 존재하면 사용, 없으면 동일가중\n",
    "            if 'w_norm' in locals():\n",
    "                sub_pred_blend = np.clip(test_mat @ w_norm, 0, 1)\n",
    "            else:\n",
    "                sub_pred_blend = np.clip(test_mat.mean(axis=1), 0, 1)\n",
    "            sub_df_blend = None\n",
    "            if \"test\" in globals() and \"Id\" in globals()[\"test\"].columns:\n",
    "                sub_df_blend = pd.DataFrame({\"Id\": globals()[\"test\"][\"Id\"].values, \"winPlacePerc\": sub_pred_blend})\n",
    "            else:\n",
    "                sub_df_blend = pd.DataFrame({\"winPlacePerc\": sub_pred_blend})\n",
    "            blend_path = \"submission_tuned_ensemble_blend.csv\"\n",
    "            sub_df_blend.to_csv(blend_path, index=False)\n",
    "            print(f\"[SAVE] {blend_path} stored completed\")\n",
    "        except Exception as e:\n",
    "            print(\"[BLEND SAVE] skip:\", e)\n"
   ]
  }
 ],
 "metadata": {
  "kaggle": {
   "accelerator": "none",
   "dataSources": [
    {
     "databundleVersionId": 862001,
     "sourceId": 10335,
     "sourceType": "competition"
    }
   ],
   "dockerImageVersionId": 31089,
   "isGpuEnabled": false,
   "isInternetEnabled": true,
   "language": "python",
   "sourceType": "notebook"
  },
  "kernelspec": {
   "display_name": "Python 3",
   "language": "python",
   "name": "python3"
  },
  "language_info": {
   "codemirror_mode": {
    "name": "ipython",
    "version": 3
   },
   "file_extension": ".py",
   "mimetype": "text/x-python",
   "name": "python",
   "nbconvert_exporter": "python",
   "pygments_lexer": "ipython3",
   "version": "3.11.13"
  },
  "papermill": {
   "default_parameters": {},
   "duration": 408.43674,
   "end_time": "2025-08-20T14:41:53.754558",
   "environment_variables": {},
   "exception": null,
   "input_path": "__notebook__.ipynb",
   "output_path": "__notebook__.ipynb",
   "parameters": {},
   "start_time": "2025-08-20T14:35:05.317818",
   "version": "2.6.0"
  }
 },
 "nbformat": 4,
 "nbformat_minor": 5
}
